{
 "cells": [
  {
   "cell_type": "code",
   "execution_count": 2,
   "metadata": {},
   "outputs": [],
   "source": [
    "import numpy as np\n",
    "from matplotlib import pyplot as plt\n",
    "import pylab as py\n",
    "from IPython.display import Image"
   ]
  },
  {
   "cell_type": "markdown",
   "metadata": {},
   "source": [
    "## Problem 5.3\n",
    "Assume the densities at zero pressure for pure water and rock are:"
   ]
  },
  {
   "cell_type": "code",
   "execution_count": 3,
   "metadata": {},
   "outputs": [],
   "source": [
    "rho_o_ice=1 #g/cm3\n",
    "rho_o_rock=4 #g/cm3"
   ]
  },
  {
   "cell_type": "markdown",
   "metadata": {},
   "source": [
    "Assume the ratio of atomic mass (A) to nuclear charge (Z) is 2 for pure ice and rock bodies. However, A/Z for ice should be sligthly lower because of the H."
   ]
  },
  {
   "cell_type": "code",
   "execution_count": 4,
   "metadata": {},
   "outputs": [],
   "source": [
    "rAZ=2"
   ]
  },
  {
   "cell_type": "markdown",
   "metadata": {},
   "source": [
    "The PDF file submitted with this code goes through the derivation of the expression implemented in this code. Given the hydrostatic law, approximation for the equation of state and density, I obtained radius as a function of y and mass + d_mass. First I define the missing constants of interest. The bulk modulus at zero pressure is a crude representation of stiffness, since the surface is far from the pressures at which Fermi gas behaviour occurs."
   ]
  },
  {
   "cell_type": "code",
   "execution_count": 178,
   "metadata": {},
   "outputs": [],
   "source": [
    "k_oi=0.5 #Mbar-Bulk modulus found in problem 5.3a for ice bodies\n",
    "k_or=5 #Mbar- Bulk modulus for rocky planets\n",
    "\n",
    "#Gravitational constant\n",
    "G=6.6743015e-11 # m3⋅kg–1⋅s–2\n",
    "\n",
    "ME=(5.9722e25)*1000 #Mass of Earth in grams\n",
    "M_oi=0.1*ME #Initial mass of icy bodies\n",
    "M_or=0.5*ME #Initial mass of rocky planets\n",
    "\n",
    "RE=6.3781e6*100 #Radius of the Earth in cm\n",
    "\n",
    "#Constants to ease implementation of the expression for the radius\n",
    "C1=(G*rho_o_ice)/(48*np.pi*k_oi)\n",
    "C2=(G*rho_o_rock)/(48*np.pi*k_or)"
   ]
  },
  {
   "cell_type": "markdown",
   "metadata": {},
   "source": [
    "The boundary conditions assume P=0 at the surface, where the density profile defined by y is 1. Therefore, I solve the system from y=0.1 to 1"
   ]
  },
  {
   "cell_type": "code",
   "execution_count": 167,
   "metadata": {},
   "outputs": [],
   "source": [
    "#Density profile defined by y\n",
    "y=np.linspace(0.1,1,1000)\n"
   ]
  },
  {
   "cell_type": "code",
   "execution_count": 172,
   "metadata": {},
   "outputs": [],
   "source": [
    "#Calculation of delta mass considering an increase in mass lacks influence on the radius above 1000*ME\n",
    "dM=((1000*ME)-(0.1*ME))/y.size\n",
    "\n",
    "#Creating arrays to save mass throughout the iterations\n",
    "listMi=[]\n",
    "listMi.append(M_oi)\n",
    "\n",
    "listMr=[]\n",
    "listMr.append(M_or)\n",
    "\n",
    "#Loop to integrate the expression in the PDF file\n",
    "for i in range(1,y.size):\n",
    "    #Previous mass + delta mass\n",
    "    Mstepi=listMi[i-1]+(dM)\n",
    "    listMi.append(Mstepi)\n",
    "    #Temporary variable\n",
    "    tempi=(C1*y*((Mstepi)/listMi[i-1]))\n",
    "    #Calculating radius\n",
    "    ri=np.power(tempi,(1/3))\n",
    "    \n",
    "    #Previous mass + delta mass\n",
    "    Mstepr=listMr[i-1]+(dM)\n",
    "    listMr.append(Mstepr)\n",
    "    #Temporary variable\n",
    "    temp=(C2*y*((Mstepr)/listMr[i-1]))\n",
    "    #Calculating radius\n",
    "    rr=np.power(temp,(1/3))"
   ]
  },
  {
   "cell_type": "code",
   "execution_count": 186,
   "metadata": {},
   "outputs": [],
   "source": [
    "#Converting the list of masses to arrays for ice and rock, respectively\n",
    "Mi=np.array(listMi)\n",
    "Mr=np.array(listMr)\n",
    "\n",
    "#Normalizing the results as suggested\n",
    "normMi=Mi/ME\n",
    "normRi=ri/RE\n",
    "\n",
    "normMr=Mr/ME\n",
    "normRr=rr/RE\n"
   ]
  },
  {
   "cell_type": "code",
   "execution_count": 188,
   "metadata": {},
   "outputs": [
    {
     "data": {
      "image/png": "[encoded data removed]",
      "text/plain": [
       "<Figure size 576x576 with 1 Axes>"
      ]
     },
     "metadata": {
      "needs_background": "light"
     },
     "output_type": "display_data"
    }
   ],
   "source": [
    "fig, ax = plt.subplots(figsize=(8, 8))\n",
    "\n",
    "ax.set_title('M(r) vs. r',color='C0')\n",
    "\n",
    "ax.plot(ri,Mi, 'C1', label='Pure ice bodies')\n",
    "ax.plot(rr,Mr, 'C2', label='Rocky bodies')\n",
    "ax.legend()\n",
    "plt.xlabel('Radius (cm)')\n",
    "plt.ylabel('Mass (g)')\n",
    "plt.yscale(\"log\")\n",
    "plt.xscale(\"log\")"
   ]
  },
  {
   "cell_type": "markdown",
   "metadata": {},
   "source": [
    "This emphasizes the importance of the hydrostatic equilibrium and equation of state in defining the positive relation between mass and radius of the planetary bodies."
   ]
  },
  {
   "cell_type": "code",
   "execution_count": null,
   "metadata": {},
   "outputs": [],
   "source": []
  }
 ],
 "metadata": {
  "kernelspec": {
   "display_name": "Python 3",
   "language": "python",
   "name": "python3"
  },
  "language_info": {
   "codemirror_mode": {
    "name": "ipython",
    "version": 3
   },
   "file_extension": ".py",
   "mimetype": "text/x-python",
   "name": "python",
   "nbconvert_exporter": "python",
   "pygments_lexer": "ipython3",
   "version": "3.8.3"
  }
 },
 "nbformat": 4,
 "nbformat_minor": 4
}
