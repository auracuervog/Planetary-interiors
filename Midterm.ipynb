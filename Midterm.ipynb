{
 "cells": [
  {
   "cell_type": "code",
   "execution_count": 50,
   "metadata": {},
   "outputs": [],
   "source": [
    "import numpy as np\n",
    "import matplotlib.pyplot as plt\n",
    "from scipy.integrate import quad"
   ]
  },
  {
   "cell_type": "markdown",
   "metadata": {},
   "source": [
    "## Debye model\n"
   ]
  },
  {
   "cell_type": "code",
   "execution_count": 91,
   "metadata": {},
   "outputs": [
    {
     "data": {
      "text/plain": [
       "4.15723130907662"
      ]
     },
     "execution_count": 91,
     "metadata": {},
     "output_type": "execute_result"
    }
   ],
   "source": [
    "#Defining constants\n",
    "R = 2 #Gas constant in cal/molK\n",
    "kB = (1.380649e-23) #Boltzmann constant (J/K)\n",
    "hbar = 1.054571817e-34 #Planck constant/2*pi in J*s \n",
    "Na = 6.02214076e23\n",
    "\n",
    "(Na*kB)/R"
   ]
  },
  {
   "cell_type": "markdown",
   "metadata": {},
   "source": [
    "The Debye temperature (TD) for pure Fe is 474 K (Table 3.2, Poirier, 2000). Since it is equal to (h-bar*Debye frequency)/kB. I used that relationship to calculate the Debye frequency (wD) for pure Fe"
   ]
  },
  {
   "cell_type": "code",
   "execution_count": 61,
   "metadata": {},
   "outputs": [],
   "source": [
    "TD = 474 #K\n",
    "wD = (TD*kB)/hbar #Hz"
   ]
  },
  {
   "cell_type": "code",
   "execution_count": 85,
   "metadata": {},
   "outputs": [],
   "source": [
    "T = np.linspace(1,1000,50)\n",
    "w = np.linspace(0,wD,50)"
   ]
  },
  {
   "cell_type": "code",
   "execution_count": 86,
   "metadata": {},
   "outputs": [],
   "source": [
    "x = (hbar*w)/(kB*T)\n",
    "Tn = TD/T \n",
    "xt = np.linspace(1,5,50)"
   ]
  },
  {
   "cell_type": "code",
   "execution_count": 87,
   "metadata": {},
   "outputs": [
    {
     "name": "stderr",
     "output_type": "stream",
     "text": [
      "<ipython-input-87-b465a1fa836b>:8: RuntimeWarning: overflow encountered in double_scalars\n",
      "  return ((x**4)*np.exp(x))/((np.exp(x)-1)**2)\n"
     ]
    }
   ],
   "source": [
    "#Defining array to save solution of the integral\n",
    "inte = np.zeros(len(T))\n",
    "\n",
    "for i in range(len(T)):\n",
    "\n",
    "    def integrand(x):\n",
    "\n",
    "        return ((x**4)*np.exp(x))/((np.exp(x)-1)**2)\n",
    "    \n",
    "    inte[i], err = quad(integrand, 0, Tn[i])\n",
    "    \n",
    "#Specific heat at constant volume for pure Fe\n",
    "Cv = (9*R*(Tn**(-3)))*inte\n",
    "y = Cv/(3*R)\n",
    "x = 1/Tn\n"
   ]
  },
  {
   "cell_type": "code",
   "execution_count": 93,
   "metadata": {},
   "outputs": [
    {
     "data": {
      "image/png": "[encoded data removed]",
      "text/plain": [
       "<Figure size 432x288 with 1 Axes>"
      ]
     },
     "metadata": {
      "needs_background": "light"
     },
     "output_type": "display_data"
    }
   ],
   "source": [
    "fig = plt.figure()\n",
    "ax = plt.axes()\n",
    "ax.set_xlabel(\"T/Debye T\")\n",
    "ax.set_ylabel(\"Cv/3R\")\n",
    "plt.scatter(x,y)\n"
   ]
  },
  {
   "cell_type": "code",
   "execution_count": 94,
   "metadata": {},
   "outputs": [
    {
     "data": {
      "text/plain": [
       "<matplotlib.collections.PathCollection at 0x7f9dce185130>"
      ]
     },
     "execution_count": 94,
     "metadata": {},
     "output_type": "execute_result"
    },
    {
     "data": {
      "image/png": "[encoded data removed]",
      "text/plain": [
       "<Figure size 432x288 with 1 Axes>"
      ]
     },
     "metadata": {
      "needs_background": "light"
     },
     "output_type": "display_data"
    }
   ],
   "source": [
    "fig2 = plt.figure()\n",
    "ax2 = plt.axes()\n",
    "ax2.set_xlabel(\"T/Debye T\")\n",
    "ax2.set_ylabel(\"Cv (J/molK)\")\n",
    "plt.scatter(x,Cv)"
   ]
  },
  {
   "cell_type": "code",
   "execution_count": null,
   "metadata": {},
   "outputs": [],
   "source": []
  }
 ],
 "metadata": {
  "kernelspec": {
   "display_name": "Python 3",
   "language": "python",
   "name": "python3"
  },
  "language_info": {
   "codemirror_mode": {
    "name": "ipython",
    "version": 3
   },
   "file_extension": ".py",
   "mimetype": "text/x-python",
   "name": "python",
   "nbconvert_exporter": "python",
   "pygments_lexer": "ipython3",
   "version": "3.8.3"
  }
 },
 "nbformat": 4,
 "nbformat_minor": 4
}
